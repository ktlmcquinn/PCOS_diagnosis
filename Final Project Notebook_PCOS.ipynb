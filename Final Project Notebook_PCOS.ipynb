{
 "cells": [
  {
   "cell_type": "markdown",
   "metadata": {},
   "source": [
    "Supervised Learning: A deep-dive into PCOS\n",
    "==========================================\n",
    "\n",
    "Polycystic Ovary Syndrome (PCOS) is a complex endocrine disorder affecting women of reproductive age worldwide. \n",
    "\n",
    "The following are some key facts about PCOS according to [The World Health Organization](https://www.who.int/news-room/fact-sheets/detail/polycystic-ovary-syndrome):\n",
    "\n",
    "<b>Prevalence:</b> PCOS affects approximately 8-13% of women of reproductive age in the United States, according to the Centers for Disease Control and Prevention (CDC), but the condition is woefully underdiagnosed, so the actual number is likely higher.\n",
    "\n",
    "<b>Cause:</b> The exact cause of PCOS is unknown, but it is believed to involve a combination of genetic and environmental factors. Insulin resistance, increased levels of male hormones (androgens), and inflammation have been linked to PCOS.\n",
    "\n",
    "<b>Diagnosis:</b> There is no single test to diagnose PCOS. Diagnosis is typically based on a combination of clinical signs and symptoms, blood tests to measure hormone levels, and imaging studies like ultrasound to look at the ovaries.\n",
    "\n",
    "<b>Associated Health Risks:</b> Women with PCOS are at an increased risk for several other health conditions, including type 2 diabetes, cardiovascular disease, obesity, and mental health disorders such as depression and anxiety. They are also at a higher risk for endometrial cancer.\n",
    "\n",
    "<b>Fertility:</b> PCOS is one of the leading causes of infertility due to the ovulatory dysfunction it can cause. However, many women with PCOS can conceive with the appropriate medical treatment and lifestyle changes.\n",
    "\n",
    "<b>Insulin Resistance:</b> A significant number of women with PCOS have insulin resistance, which means their bodies can't use insulin effectively. This can lead to high blood sugar levels and increase the risk of developing diabetes.\n",
    "\n",
    "\n",
    "<i>In the following notebook, I will conduct exploratory data analysis (EDA) and apply supervised learning techniques to uncover insights about this syndrome.</i>"
   ]
  },
  {
   "cell_type": "markdown",
   "metadata": {},
   "source": [
    "<h3>Import Packages</h3>\n",
    "\n",
    "First, I will import the packages I need for this analysis:"
   ]
  },
  {
   "cell_type": "code",
   "execution_count": 41,
   "metadata": {
    "collapsed": false,
    "jupyter": {
     "outputs_hidden": false
    }
   },
   "outputs": [],
   "source": [
    "import numpy as np\n",
    "import pandas as pd\n",
    "import scipy as sp\n",
    "import matplotlib.pyplot as plt\n",
    "%matplotlib inline\n",
    "import scipy.stats as stats\n",
    "import seaborn as sns\n",
    "import pandoc as pandoc\n",
    "\n",
    "from numpy import mean\n",
    "from numpy import std\n",
    "from sklearn.datasets import make_classification\n",
    "from sklearn.linear_model import LogisticRegression\n",
    "from sklearn.svm import SVC\n",
    "from sklearn.metrics import accuracy_score, classification_report, confusion_matrix, roc_auc_score, roc_curve\n",
    "from sklearn.model_selection import cross_val_score, train_test_split, KFold, RepeatedKFold, GridSearchCV\n",
    "from sklearn.preprocessing import StandardScaler\n",
    "from yellowbrick.model_selection import RFECV"
   ]
  },
  {
   "cell_type": "markdown",
   "metadata": {},
   "source": [
    "<h3>Exploratory Data Analysis</h3>\n",
    "\n",
    "Let's read in & check out the first few rows of the data"
   ]
  },
  {
   "cell_type": "code",
   "execution_count": 22,
   "metadata": {
    "collapsed": false,
    "jupyter": {
     "outputs_hidden": false
    }
   },
   "outputs": [
    {
     "data": {
      "text/html": [
       "<div>\n",
       "<style scoped>\n",
       "    .dataframe tbody tr th:only-of-type {\n",
       "        vertical-align: middle;\n",
       "    }\n",
       "\n",
       "    .dataframe tbody tr th {\n",
       "        vertical-align: top;\n",
       "    }\n",
       "\n",
       "    .dataframe thead th {\n",
       "        text-align: right;\n",
       "    }\n",
       "</style>\n",
       "<table border=\"1\" class=\"dataframe\">\n",
       "  <thead>\n",
       "    <tr style=\"text-align: right;\">\n",
       "      <th></th>\n",
       "      <th>0</th>\n",
       "      <th>1</th>\n",
       "      <th>2</th>\n",
       "      <th>3</th>\n",
       "      <th>4</th>\n",
       "    </tr>\n",
       "  </thead>\n",
       "  <tbody>\n",
       "    <tr>\n",
       "      <th>Sl. No</th>\n",
       "      <td>1</td>\n",
       "      <td>2</td>\n",
       "      <td>3</td>\n",
       "      <td>4</td>\n",
       "      <td>5</td>\n",
       "    </tr>\n",
       "    <tr>\n",
       "      <th>Patient File No.</th>\n",
       "      <td>1</td>\n",
       "      <td>2</td>\n",
       "      <td>3</td>\n",
       "      <td>4</td>\n",
       "      <td>5</td>\n",
       "    </tr>\n",
       "    <tr>\n",
       "      <th>PCOS (Y/N)</th>\n",
       "      <td>0</td>\n",
       "      <td>0</td>\n",
       "      <td>1</td>\n",
       "      <td>0</td>\n",
       "      <td>0</td>\n",
       "    </tr>\n",
       "    <tr>\n",
       "      <th>Age (yrs)</th>\n",
       "      <td>28</td>\n",
       "      <td>36</td>\n",
       "      <td>33</td>\n",
       "      <td>37</td>\n",
       "      <td>25</td>\n",
       "    </tr>\n",
       "    <tr>\n",
       "      <th>Weight (Kg)</th>\n",
       "      <td>44.6</td>\n",
       "      <td>65.0</td>\n",
       "      <td>68.8</td>\n",
       "      <td>65.0</td>\n",
       "      <td>52.0</td>\n",
       "    </tr>\n",
       "    <tr>\n",
       "      <th>Height(Cm)</th>\n",
       "      <td>152.0</td>\n",
       "      <td>161.5</td>\n",
       "      <td>165.0</td>\n",
       "      <td>148.0</td>\n",
       "      <td>161.0</td>\n",
       "    </tr>\n",
       "    <tr>\n",
       "      <th>BMI</th>\n",
       "      <td>19.3</td>\n",
       "      <td>#NAME?</td>\n",
       "      <td>#NAME?</td>\n",
       "      <td>#NAME?</td>\n",
       "      <td>#NAME?</td>\n",
       "    </tr>\n",
       "    <tr>\n",
       "      <th>Blood Group</th>\n",
       "      <td>15</td>\n",
       "      <td>15</td>\n",
       "      <td>11</td>\n",
       "      <td>13</td>\n",
       "      <td>11</td>\n",
       "    </tr>\n",
       "    <tr>\n",
       "      <th>Pulse rate(bpm)</th>\n",
       "      <td>78</td>\n",
       "      <td>74</td>\n",
       "      <td>72</td>\n",
       "      <td>72</td>\n",
       "      <td>72</td>\n",
       "    </tr>\n",
       "    <tr>\n",
       "      <th>RR (breaths/min)</th>\n",
       "      <td>22</td>\n",
       "      <td>20</td>\n",
       "      <td>18</td>\n",
       "      <td>20</td>\n",
       "      <td>18</td>\n",
       "    </tr>\n",
       "    <tr>\n",
       "      <th>Hb(g/dl)</th>\n",
       "      <td>10.48</td>\n",
       "      <td>11.7</td>\n",
       "      <td>11.8</td>\n",
       "      <td>12.0</td>\n",
       "      <td>10.0</td>\n",
       "    </tr>\n",
       "    <tr>\n",
       "      <th>Cycle(R/I)</th>\n",
       "      <td>2</td>\n",
       "      <td>2</td>\n",
       "      <td>2</td>\n",
       "      <td>2</td>\n",
       "      <td>2</td>\n",
       "    </tr>\n",
       "    <tr>\n",
       "      <th>Cycle length(days)</th>\n",
       "      <td>5</td>\n",
       "      <td>5</td>\n",
       "      <td>5</td>\n",
       "      <td>5</td>\n",
       "      <td>5</td>\n",
       "    </tr>\n",
       "    <tr>\n",
       "      <th>Marraige Status (Yrs)</th>\n",
       "      <td>7.0</td>\n",
       "      <td>11.0</td>\n",
       "      <td>10.0</td>\n",
       "      <td>4.0</td>\n",
       "      <td>1.0</td>\n",
       "    </tr>\n",
       "    <tr>\n",
       "      <th>Pregnant(Y/N)</th>\n",
       "      <td>0</td>\n",
       "      <td>1</td>\n",
       "      <td>1</td>\n",
       "      <td>0</td>\n",
       "      <td>1</td>\n",
       "    </tr>\n",
       "    <tr>\n",
       "      <th>No. of abortions</th>\n",
       "      <td>0</td>\n",
       "      <td>0</td>\n",
       "      <td>0</td>\n",
       "      <td>0</td>\n",
       "      <td>0</td>\n",
       "    </tr>\n",
       "    <tr>\n",
       "      <th>I   beta-HCG(mIU/mL)</th>\n",
       "      <td>1.99</td>\n",
       "      <td>60.8</td>\n",
       "      <td>494.08</td>\n",
       "      <td>1.99</td>\n",
       "      <td>801.45</td>\n",
       "    </tr>\n",
       "    <tr>\n",
       "      <th>II    beta-HCG(mIU/mL)</th>\n",
       "      <td>1.99</td>\n",
       "      <td>1.99</td>\n",
       "      <td>494.08</td>\n",
       "      <td>1.99</td>\n",
       "      <td>801.45</td>\n",
       "    </tr>\n",
       "    <tr>\n",
       "      <th>FSH(mIU/mL)</th>\n",
       "      <td>7.95</td>\n",
       "      <td>6.73</td>\n",
       "      <td>5.54</td>\n",
       "      <td>8.06</td>\n",
       "      <td>3.98</td>\n",
       "    </tr>\n",
       "    <tr>\n",
       "      <th>LH(mIU/mL)</th>\n",
       "      <td>3.68</td>\n",
       "      <td>1.09</td>\n",
       "      <td>0.88</td>\n",
       "      <td>2.36</td>\n",
       "      <td>0.9</td>\n",
       "    </tr>\n",
       "    <tr>\n",
       "      <th>FSH/LH</th>\n",
       "      <td>2.16</td>\n",
       "      <td>6.17</td>\n",
       "      <td>6.3</td>\n",
       "      <td>3.42</td>\n",
       "      <td>4.42</td>\n",
       "    </tr>\n",
       "    <tr>\n",
       "      <th>Hip(inch)</th>\n",
       "      <td>36</td>\n",
       "      <td>38</td>\n",
       "      <td>40</td>\n",
       "      <td>42</td>\n",
       "      <td>37</td>\n",
       "    </tr>\n",
       "    <tr>\n",
       "      <th>Waist(inch)</th>\n",
       "      <td>30</td>\n",
       "      <td>32</td>\n",
       "      <td>36</td>\n",
       "      <td>36</td>\n",
       "      <td>30</td>\n",
       "    </tr>\n",
       "    <tr>\n",
       "      <th>Waist:Hip Ratio</th>\n",
       "      <td>0.83</td>\n",
       "      <td>0.84</td>\n",
       "      <td>0.9</td>\n",
       "      <td>0.86</td>\n",
       "      <td>0.81</td>\n",
       "    </tr>\n",
       "    <tr>\n",
       "      <th>TSH (mIU/L)</th>\n",
       "      <td>0.68</td>\n",
       "      <td>3.16</td>\n",
       "      <td>2.54</td>\n",
       "      <td>16.41</td>\n",
       "      <td>3.57</td>\n",
       "    </tr>\n",
       "    <tr>\n",
       "      <th>AMH(ng/mL)</th>\n",
       "      <td>2.07</td>\n",
       "      <td>1.53</td>\n",
       "      <td>6.63</td>\n",
       "      <td>1.22</td>\n",
       "      <td>2.26</td>\n",
       "    </tr>\n",
       "    <tr>\n",
       "      <th>PRL(ng/mL)</th>\n",
       "      <td>45.16</td>\n",
       "      <td>20.09</td>\n",
       "      <td>10.52</td>\n",
       "      <td>36.9</td>\n",
       "      <td>30.09</td>\n",
       "    </tr>\n",
       "    <tr>\n",
       "      <th>Vit D3 (ng/mL)</th>\n",
       "      <td>17.1</td>\n",
       "      <td>61.3</td>\n",
       "      <td>49.7</td>\n",
       "      <td>33.4</td>\n",
       "      <td>43.8</td>\n",
       "    </tr>\n",
       "    <tr>\n",
       "      <th>PRG(ng/mL)</th>\n",
       "      <td>0.57</td>\n",
       "      <td>0.97</td>\n",
       "      <td>0.36</td>\n",
       "      <td>0.36</td>\n",
       "      <td>0.38</td>\n",
       "    </tr>\n",
       "    <tr>\n",
       "      <th>RBS(mg/dl)</th>\n",
       "      <td>92.0</td>\n",
       "      <td>92.0</td>\n",
       "      <td>84.0</td>\n",
       "      <td>76.0</td>\n",
       "      <td>84.0</td>\n",
       "    </tr>\n",
       "    <tr>\n",
       "      <th>Weight gain(Y/N)</th>\n",
       "      <td>0</td>\n",
       "      <td>0</td>\n",
       "      <td>0</td>\n",
       "      <td>0</td>\n",
       "      <td>0</td>\n",
       "    </tr>\n",
       "    <tr>\n",
       "      <th>hair growth(Y/N)</th>\n",
       "      <td>0</td>\n",
       "      <td>0</td>\n",
       "      <td>0</td>\n",
       "      <td>0</td>\n",
       "      <td>0</td>\n",
       "    </tr>\n",
       "    <tr>\n",
       "      <th>Skin darkening (Y/N)</th>\n",
       "      <td>0</td>\n",
       "      <td>0</td>\n",
       "      <td>0</td>\n",
       "      <td>0</td>\n",
       "      <td>0</td>\n",
       "    </tr>\n",
       "    <tr>\n",
       "      <th>Hair loss(Y/N)</th>\n",
       "      <td>0</td>\n",
       "      <td>0</td>\n",
       "      <td>1</td>\n",
       "      <td>0</td>\n",
       "      <td>1</td>\n",
       "    </tr>\n",
       "    <tr>\n",
       "      <th>Pimples(Y/N)</th>\n",
       "      <td>0</td>\n",
       "      <td>0</td>\n",
       "      <td>1</td>\n",
       "      <td>0</td>\n",
       "      <td>0</td>\n",
       "    </tr>\n",
       "    <tr>\n",
       "      <th>Fast food (Y/N)</th>\n",
       "      <td>1.0</td>\n",
       "      <td>0.0</td>\n",
       "      <td>1.0</td>\n",
       "      <td>0.0</td>\n",
       "      <td>0.0</td>\n",
       "    </tr>\n",
       "    <tr>\n",
       "      <th>Reg.Exercise(Y/N)</th>\n",
       "      <td>0</td>\n",
       "      <td>0</td>\n",
       "      <td>0</td>\n",
       "      <td>0</td>\n",
       "      <td>0</td>\n",
       "    </tr>\n",
       "    <tr>\n",
       "      <th>BP _Systolic (mmHg)</th>\n",
       "      <td>110</td>\n",
       "      <td>120</td>\n",
       "      <td>120</td>\n",
       "      <td>120</td>\n",
       "      <td>120</td>\n",
       "    </tr>\n",
       "    <tr>\n",
       "      <th>BP _Diastolic (mmHg)</th>\n",
       "      <td>80</td>\n",
       "      <td>70</td>\n",
       "      <td>80</td>\n",
       "      <td>70</td>\n",
       "      <td>80</td>\n",
       "    </tr>\n",
       "    <tr>\n",
       "      <th>Follicle No. (L)</th>\n",
       "      <td>3</td>\n",
       "      <td>3</td>\n",
       "      <td>13</td>\n",
       "      <td>2</td>\n",
       "      <td>3</td>\n",
       "    </tr>\n",
       "    <tr>\n",
       "      <th>Follicle No. (R)</th>\n",
       "      <td>3</td>\n",
       "      <td>5</td>\n",
       "      <td>15</td>\n",
       "      <td>2</td>\n",
       "      <td>4</td>\n",
       "    </tr>\n",
       "    <tr>\n",
       "      <th>Avg. F size (L) (mm)</th>\n",
       "      <td>18.0</td>\n",
       "      <td>15.0</td>\n",
       "      <td>18.0</td>\n",
       "      <td>15.0</td>\n",
       "      <td>16.0</td>\n",
       "    </tr>\n",
       "    <tr>\n",
       "      <th>Avg. F size (R) (mm)</th>\n",
       "      <td>18.0</td>\n",
       "      <td>14.0</td>\n",
       "      <td>20.0</td>\n",
       "      <td>14.0</td>\n",
       "      <td>14.0</td>\n",
       "    </tr>\n",
       "    <tr>\n",
       "      <th>Endometrium (mm)</th>\n",
       "      <td>8.5</td>\n",
       "      <td>3.7</td>\n",
       "      <td>10.0</td>\n",
       "      <td>7.5</td>\n",
       "      <td>7.0</td>\n",
       "    </tr>\n",
       "    <tr>\n",
       "      <th>Unnamed: 44</th>\n",
       "      <td>NaN</td>\n",
       "      <td>NaN</td>\n",
       "      <td>NaN</td>\n",
       "      <td>NaN</td>\n",
       "      <td>NaN</td>\n",
       "    </tr>\n",
       "  </tbody>\n",
       "</table>\n",
       "</div>"
      ],
      "text/plain": [
       "                            0       1       2       3       4\n",
       "Sl. No                      1       2       3       4       5\n",
       "Patient File No.            1       2       3       4       5\n",
       "PCOS (Y/N)                  0       0       1       0       0\n",
       " Age (yrs)                 28      36      33      37      25\n",
       "Weight (Kg)              44.6    65.0    68.8    65.0    52.0\n",
       "Height(Cm)              152.0   161.5   165.0   148.0   161.0\n",
       "BMI                      19.3  #NAME?  #NAME?  #NAME?  #NAME?\n",
       "Blood Group                15      15      11      13      11\n",
       "Pulse rate(bpm)            78      74      72      72      72\n",
       "RR (breaths/min)           22      20      18      20      18\n",
       "Hb(g/dl)                10.48    11.7    11.8    12.0    10.0\n",
       "Cycle(R/I)                  2       2       2       2       2\n",
       "Cycle length(days)          5       5       5       5       5\n",
       "Marraige Status (Yrs)     7.0    11.0    10.0     4.0     1.0\n",
       "Pregnant(Y/N)               0       1       1       0       1\n",
       "No. of abortions            0       0       0       0       0\n",
       "  I   beta-HCG(mIU/mL)   1.99    60.8  494.08    1.99  801.45\n",
       "II    beta-HCG(mIU/mL)   1.99    1.99  494.08    1.99  801.45\n",
       "FSH(mIU/mL)              7.95    6.73    5.54    8.06    3.98\n",
       "LH(mIU/mL)               3.68    1.09    0.88    2.36     0.9\n",
       "FSH/LH                   2.16    6.17     6.3    3.42    4.42\n",
       "Hip(inch)                  36      38      40      42      37\n",
       "Waist(inch)                30      32      36      36      30\n",
       "Waist:Hip Ratio          0.83    0.84     0.9    0.86    0.81\n",
       "TSH (mIU/L)              0.68    3.16    2.54   16.41    3.57\n",
       "AMH(ng/mL)               2.07    1.53    6.63    1.22    2.26\n",
       "PRL(ng/mL)              45.16   20.09   10.52    36.9   30.09\n",
       "Vit D3 (ng/mL)           17.1    61.3    49.7    33.4    43.8\n",
       "PRG(ng/mL)               0.57    0.97    0.36    0.36    0.38\n",
       "RBS(mg/dl)               92.0    92.0    84.0    76.0    84.0\n",
       "Weight gain(Y/N)            0       0       0       0       0\n",
       "hair growth(Y/N)            0       0       0       0       0\n",
       "Skin darkening (Y/N)        0       0       0       0       0\n",
       "Hair loss(Y/N)              0       0       1       0       1\n",
       "Pimples(Y/N)                0       0       1       0       0\n",
       "Fast food (Y/N)           1.0     0.0     1.0     0.0     0.0\n",
       "Reg.Exercise(Y/N)           0       0       0       0       0\n",
       "BP _Systolic (mmHg)       110     120     120     120     120\n",
       "BP _Diastolic (mmHg)       80      70      80      70      80\n",
       "Follicle No. (L)            3       3      13       2       3\n",
       "Follicle No. (R)            3       5      15       2       4\n",
       "Avg. F size (L) (mm)     18.0    15.0    18.0    15.0    16.0\n",
       "Avg. F size (R) (mm)     18.0    14.0    20.0    14.0    14.0\n",
       "Endometrium (mm)          8.5     3.7    10.0     7.5     7.0\n",
       "Unnamed: 44               NaN     NaN     NaN     NaN     NaN"
      ]
     },
     "execution_count": 22,
     "metadata": {},
     "output_type": "execute_result"
    }
   ],
   "source": [
    "pcos_df = pd.read_csv(\"PCOS_data.csv\")\n",
    "\n",
    "pcos_df.head().T"
   ]
  },
  {
   "cell_type": "markdown",
   "metadata": {},
   "source": [
    "As you can see, in row 7, the BMI calculations seem to have an error. Since that calculation is known and readily available online, I will use the following formula to fix that column:\n",
    "\n",
    "$$(weight(kg)) \\over (height(m)^2)$$\n",
    "\n",
    "Also, the last feature seems to be there in error, and the first two features seems to be unnecessary to analysis. I will remove those three features from the dataframe. I will also remove FSH/LH because we have FSH & LH as their own features already."
   ]
  },
  {
   "cell_type": "code",
   "execution_count": 23,
   "metadata": {
    "collapsed": false,
    "jupyter": {
     "outputs_hidden": false
    }
   },
   "outputs": [
    {
     "data": {
      "text/html": [
       "<div>\n",
       "<style scoped>\n",
       "    .dataframe tbody tr th:only-of-type {\n",
       "        vertical-align: middle;\n",
       "    }\n",
       "\n",
       "    .dataframe tbody tr th {\n",
       "        vertical-align: top;\n",
       "    }\n",
       "\n",
       "    .dataframe thead th {\n",
       "        text-align: right;\n",
       "    }\n",
       "</style>\n",
       "<table border=\"1\" class=\"dataframe\">\n",
       "  <thead>\n",
       "    <tr style=\"text-align: right;\">\n",
       "      <th></th>\n",
       "      <th>0</th>\n",
       "      <th>1</th>\n",
       "      <th>2</th>\n",
       "      <th>3</th>\n",
       "      <th>4</th>\n",
       "    </tr>\n",
       "  </thead>\n",
       "  <tbody>\n",
       "    <tr>\n",
       "      <th>PCOS (Y/N)</th>\n",
       "      <td>0.00</td>\n",
       "      <td>0.00</td>\n",
       "      <td>1.00</td>\n",
       "      <td>0.00</td>\n",
       "      <td>0.00</td>\n",
       "    </tr>\n",
       "    <tr>\n",
       "      <th>Age (yrs)</th>\n",
       "      <td>28.00</td>\n",
       "      <td>36.00</td>\n",
       "      <td>33.00</td>\n",
       "      <td>37.00</td>\n",
       "      <td>25.00</td>\n",
       "    </tr>\n",
       "    <tr>\n",
       "      <th>Weight (Kg)</th>\n",
       "      <td>44.60</td>\n",
       "      <td>65.00</td>\n",
       "      <td>68.80</td>\n",
       "      <td>65.00</td>\n",
       "      <td>52.00</td>\n",
       "    </tr>\n",
       "    <tr>\n",
       "      <th>Height(Cm)</th>\n",
       "      <td>152.00</td>\n",
       "      <td>161.50</td>\n",
       "      <td>165.00</td>\n",
       "      <td>148.00</td>\n",
       "      <td>161.00</td>\n",
       "    </tr>\n",
       "    <tr>\n",
       "      <th>BMI</th>\n",
       "      <td>19.30</td>\n",
       "      <td>24.92</td>\n",
       "      <td>25.27</td>\n",
       "      <td>29.67</td>\n",
       "      <td>20.06</td>\n",
       "    </tr>\n",
       "    <tr>\n",
       "      <th>Blood Group</th>\n",
       "      <td>15.00</td>\n",
       "      <td>15.00</td>\n",
       "      <td>11.00</td>\n",
       "      <td>13.00</td>\n",
       "      <td>11.00</td>\n",
       "    </tr>\n",
       "    <tr>\n",
       "      <th>Pulse rate(bpm)</th>\n",
       "      <td>78.00</td>\n",
       "      <td>74.00</td>\n",
       "      <td>72.00</td>\n",
       "      <td>72.00</td>\n",
       "      <td>72.00</td>\n",
       "    </tr>\n",
       "    <tr>\n",
       "      <th>RR (breaths/min)</th>\n",
       "      <td>22.00</td>\n",
       "      <td>20.00</td>\n",
       "      <td>18.00</td>\n",
       "      <td>20.00</td>\n",
       "      <td>18.00</td>\n",
       "    </tr>\n",
       "    <tr>\n",
       "      <th>Hb(g/dl)</th>\n",
       "      <td>10.48</td>\n",
       "      <td>11.70</td>\n",
       "      <td>11.80</td>\n",
       "      <td>12.00</td>\n",
       "      <td>10.00</td>\n",
       "    </tr>\n",
       "    <tr>\n",
       "      <th>Cycle(R/I)</th>\n",
       "      <td>2.00</td>\n",
       "      <td>2.00</td>\n",
       "      <td>2.00</td>\n",
       "      <td>2.00</td>\n",
       "      <td>2.00</td>\n",
       "    </tr>\n",
       "    <tr>\n",
       "      <th>Cycle length(days)</th>\n",
       "      <td>5.00</td>\n",
       "      <td>5.00</td>\n",
       "      <td>5.00</td>\n",
       "      <td>5.00</td>\n",
       "      <td>5.00</td>\n",
       "    </tr>\n",
       "    <tr>\n",
       "      <th>Marraige Status (Yrs)</th>\n",
       "      <td>7.00</td>\n",
       "      <td>11.00</td>\n",
       "      <td>10.00</td>\n",
       "      <td>4.00</td>\n",
       "      <td>1.00</td>\n",
       "    </tr>\n",
       "    <tr>\n",
       "      <th>Pregnant(Y/N)</th>\n",
       "      <td>0.00</td>\n",
       "      <td>1.00</td>\n",
       "      <td>1.00</td>\n",
       "      <td>0.00</td>\n",
       "      <td>1.00</td>\n",
       "    </tr>\n",
       "    <tr>\n",
       "      <th>No. of abortions</th>\n",
       "      <td>0.00</td>\n",
       "      <td>0.00</td>\n",
       "      <td>0.00</td>\n",
       "      <td>0.00</td>\n",
       "      <td>0.00</td>\n",
       "    </tr>\n",
       "    <tr>\n",
       "      <th>I   beta-HCG(mIU/mL)</th>\n",
       "      <td>1.99</td>\n",
       "      <td>60.80</td>\n",
       "      <td>494.08</td>\n",
       "      <td>1.99</td>\n",
       "      <td>801.45</td>\n",
       "    </tr>\n",
       "    <tr>\n",
       "      <th>II    beta-HCG(mIU/mL)</th>\n",
       "      <td>1.99</td>\n",
       "      <td>1.99</td>\n",
       "      <td>494.08</td>\n",
       "      <td>1.99</td>\n",
       "      <td>801.45</td>\n",
       "    </tr>\n",
       "    <tr>\n",
       "      <th>FSH(mIU/mL)</th>\n",
       "      <td>7.95</td>\n",
       "      <td>6.73</td>\n",
       "      <td>5.54</td>\n",
       "      <td>8.06</td>\n",
       "      <td>3.98</td>\n",
       "    </tr>\n",
       "    <tr>\n",
       "      <th>LH(mIU/mL)</th>\n",
       "      <td>3.68</td>\n",
       "      <td>1.09</td>\n",
       "      <td>0.88</td>\n",
       "      <td>2.36</td>\n",
       "      <td>0.90</td>\n",
       "    </tr>\n",
       "    <tr>\n",
       "      <th>Hip(inch)</th>\n",
       "      <td>36.00</td>\n",
       "      <td>38.00</td>\n",
       "      <td>40.00</td>\n",
       "      <td>42.00</td>\n",
       "      <td>37.00</td>\n",
       "    </tr>\n",
       "    <tr>\n",
       "      <th>Waist(inch)</th>\n",
       "      <td>30.00</td>\n",
       "      <td>32.00</td>\n",
       "      <td>36.00</td>\n",
       "      <td>36.00</td>\n",
       "      <td>30.00</td>\n",
       "    </tr>\n",
       "    <tr>\n",
       "      <th>Waist:Hip Ratio</th>\n",
       "      <td>0.83</td>\n",
       "      <td>0.84</td>\n",
       "      <td>0.90</td>\n",
       "      <td>0.86</td>\n",
       "      <td>0.81</td>\n",
       "    </tr>\n",
       "    <tr>\n",
       "      <th>TSH (mIU/L)</th>\n",
       "      <td>0.68</td>\n",
       "      <td>3.16</td>\n",
       "      <td>2.54</td>\n",
       "      <td>16.41</td>\n",
       "      <td>3.57</td>\n",
       "    </tr>\n",
       "    <tr>\n",
       "      <th>AMH(ng/mL)</th>\n",
       "      <td>2.07</td>\n",
       "      <td>1.53</td>\n",
       "      <td>6.63</td>\n",
       "      <td>1.22</td>\n",
       "      <td>2.26</td>\n",
       "    </tr>\n",
       "    <tr>\n",
       "      <th>PRL(ng/mL)</th>\n",
       "      <td>45.16</td>\n",
       "      <td>20.09</td>\n",
       "      <td>10.52</td>\n",
       "      <td>36.90</td>\n",
       "      <td>30.09</td>\n",
       "    </tr>\n",
       "    <tr>\n",
       "      <th>Vit D3 (ng/mL)</th>\n",
       "      <td>17.10</td>\n",
       "      <td>61.30</td>\n",
       "      <td>49.70</td>\n",
       "      <td>33.40</td>\n",
       "      <td>43.80</td>\n",
       "    </tr>\n",
       "    <tr>\n",
       "      <th>PRG(ng/mL)</th>\n",
       "      <td>0.57</td>\n",
       "      <td>0.97</td>\n",
       "      <td>0.36</td>\n",
       "      <td>0.36</td>\n",
       "      <td>0.38</td>\n",
       "    </tr>\n",
       "    <tr>\n",
       "      <th>RBS(mg/dl)</th>\n",
       "      <td>92.00</td>\n",
       "      <td>92.00</td>\n",
       "      <td>84.00</td>\n",
       "      <td>76.00</td>\n",
       "      <td>84.00</td>\n",
       "    </tr>\n",
       "    <tr>\n",
       "      <th>Weight gain(Y/N)</th>\n",
       "      <td>0.00</td>\n",
       "      <td>0.00</td>\n",
       "      <td>0.00</td>\n",
       "      <td>0.00</td>\n",
       "      <td>0.00</td>\n",
       "    </tr>\n",
       "    <tr>\n",
       "      <th>hair growth(Y/N)</th>\n",
       "      <td>0.00</td>\n",
       "      <td>0.00</td>\n",
       "      <td>0.00</td>\n",
       "      <td>0.00</td>\n",
       "      <td>0.00</td>\n",
       "    </tr>\n",
       "    <tr>\n",
       "      <th>Skin darkening (Y/N)</th>\n",
       "      <td>0.00</td>\n",
       "      <td>0.00</td>\n",
       "      <td>0.00</td>\n",
       "      <td>0.00</td>\n",
       "      <td>0.00</td>\n",
       "    </tr>\n",
       "    <tr>\n",
       "      <th>Hair loss(Y/N)</th>\n",
       "      <td>0.00</td>\n",
       "      <td>0.00</td>\n",
       "      <td>1.00</td>\n",
       "      <td>0.00</td>\n",
       "      <td>1.00</td>\n",
       "    </tr>\n",
       "    <tr>\n",
       "      <th>Pimples(Y/N)</th>\n",
       "      <td>0.00</td>\n",
       "      <td>0.00</td>\n",
       "      <td>1.00</td>\n",
       "      <td>0.00</td>\n",
       "      <td>0.00</td>\n",
       "    </tr>\n",
       "    <tr>\n",
       "      <th>Fast food (Y/N)</th>\n",
       "      <td>1.00</td>\n",
       "      <td>0.00</td>\n",
       "      <td>1.00</td>\n",
       "      <td>0.00</td>\n",
       "      <td>0.00</td>\n",
       "    </tr>\n",
       "    <tr>\n",
       "      <th>Reg.Exercise(Y/N)</th>\n",
       "      <td>0.00</td>\n",
       "      <td>0.00</td>\n",
       "      <td>0.00</td>\n",
       "      <td>0.00</td>\n",
       "      <td>0.00</td>\n",
       "    </tr>\n",
       "    <tr>\n",
       "      <th>BP _Systolic (mmHg)</th>\n",
       "      <td>110.00</td>\n",
       "      <td>120.00</td>\n",
       "      <td>120.00</td>\n",
       "      <td>120.00</td>\n",
       "      <td>120.00</td>\n",
       "    </tr>\n",
       "    <tr>\n",
       "      <th>BP _Diastolic (mmHg)</th>\n",
       "      <td>80.00</td>\n",
       "      <td>70.00</td>\n",
       "      <td>80.00</td>\n",
       "      <td>70.00</td>\n",
       "      <td>80.00</td>\n",
       "    </tr>\n",
       "    <tr>\n",
       "      <th>Follicle No. (L)</th>\n",
       "      <td>3.00</td>\n",
       "      <td>3.00</td>\n",
       "      <td>13.00</td>\n",
       "      <td>2.00</td>\n",
       "      <td>3.00</td>\n",
       "    </tr>\n",
       "    <tr>\n",
       "      <th>Follicle No. (R)</th>\n",
       "      <td>3.00</td>\n",
       "      <td>5.00</td>\n",
       "      <td>15.00</td>\n",
       "      <td>2.00</td>\n",
       "      <td>4.00</td>\n",
       "    </tr>\n",
       "    <tr>\n",
       "      <th>Avg. F size (L) (mm)</th>\n",
       "      <td>18.00</td>\n",
       "      <td>15.00</td>\n",
       "      <td>18.00</td>\n",
       "      <td>15.00</td>\n",
       "      <td>16.00</td>\n",
       "    </tr>\n",
       "    <tr>\n",
       "      <th>Avg. F size (R) (mm)</th>\n",
       "      <td>18.00</td>\n",
       "      <td>14.00</td>\n",
       "      <td>20.00</td>\n",
       "      <td>14.00</td>\n",
       "      <td>14.00</td>\n",
       "    </tr>\n",
       "    <tr>\n",
       "      <th>Endometrium (mm)</th>\n",
       "      <td>8.50</td>\n",
       "      <td>3.70</td>\n",
       "      <td>10.00</td>\n",
       "      <td>7.50</td>\n",
       "      <td>7.00</td>\n",
       "    </tr>\n",
       "  </tbody>\n",
       "</table>\n",
       "</div>"
      ],
      "text/plain": [
       "                             0       1       2       3       4\n",
       "PCOS (Y/N)                0.00    0.00    1.00    0.00    0.00\n",
       " Age (yrs)               28.00   36.00   33.00   37.00   25.00\n",
       "Weight (Kg)              44.60   65.00   68.80   65.00   52.00\n",
       "Height(Cm)              152.00  161.50  165.00  148.00  161.00\n",
       "BMI                      19.30   24.92   25.27   29.67   20.06\n",
       "Blood Group              15.00   15.00   11.00   13.00   11.00\n",
       "Pulse rate(bpm)          78.00   74.00   72.00   72.00   72.00\n",
       "RR (breaths/min)         22.00   20.00   18.00   20.00   18.00\n",
       "Hb(g/dl)                 10.48   11.70   11.80   12.00   10.00\n",
       "Cycle(R/I)                2.00    2.00    2.00    2.00    2.00\n",
       "Cycle length(days)        5.00    5.00    5.00    5.00    5.00\n",
       "Marraige Status (Yrs)     7.00   11.00   10.00    4.00    1.00\n",
       "Pregnant(Y/N)             0.00    1.00    1.00    0.00    1.00\n",
       "No. of abortions          0.00    0.00    0.00    0.00    0.00\n",
       "  I   beta-HCG(mIU/mL)    1.99   60.80  494.08    1.99  801.45\n",
       "II    beta-HCG(mIU/mL)    1.99    1.99  494.08    1.99  801.45\n",
       "FSH(mIU/mL)               7.95    6.73    5.54    8.06    3.98\n",
       "LH(mIU/mL)                3.68    1.09    0.88    2.36    0.90\n",
       "Hip(inch)                36.00   38.00   40.00   42.00   37.00\n",
       "Waist(inch)              30.00   32.00   36.00   36.00   30.00\n",
       "Waist:Hip Ratio           0.83    0.84    0.90    0.86    0.81\n",
       "TSH (mIU/L)               0.68    3.16    2.54   16.41    3.57\n",
       "AMH(ng/mL)                2.07    1.53    6.63    1.22    2.26\n",
       "PRL(ng/mL)               45.16   20.09   10.52   36.90   30.09\n",
       "Vit D3 (ng/mL)           17.10   61.30   49.70   33.40   43.80\n",
       "PRG(ng/mL)                0.57    0.97    0.36    0.36    0.38\n",
       "RBS(mg/dl)               92.00   92.00   84.00   76.00   84.00\n",
       "Weight gain(Y/N)          0.00    0.00    0.00    0.00    0.00\n",
       "hair growth(Y/N)          0.00    0.00    0.00    0.00    0.00\n",
       "Skin darkening (Y/N)      0.00    0.00    0.00    0.00    0.00\n",
       "Hair loss(Y/N)            0.00    0.00    1.00    0.00    1.00\n",
       "Pimples(Y/N)              0.00    0.00    1.00    0.00    0.00\n",
       "Fast food (Y/N)           1.00    0.00    1.00    0.00    0.00\n",
       "Reg.Exercise(Y/N)         0.00    0.00    0.00    0.00    0.00\n",
       "BP _Systolic (mmHg)     110.00  120.00  120.00  120.00  120.00\n",
       "BP _Diastolic (mmHg)     80.00   70.00   80.00   70.00   80.00\n",
       "Follicle No. (L)          3.00    3.00   13.00    2.00    3.00\n",
       "Follicle No. (R)          3.00    5.00   15.00    2.00    4.00\n",
       "Avg. F size (L) (mm)     18.00   15.00   18.00   15.00   16.00\n",
       "Avg. F size (R) (mm)     18.00   14.00   20.00   14.00   14.00\n",
       "Endometrium (mm)          8.50    3.70   10.00    7.50    7.00"
      ]
     },
     "execution_count": 23,
     "metadata": {},
     "output_type": "execute_result"
    }
   ],
   "source": [
    "# Calculating BMI to replace values in BMI column\n",
    "pcos_df['BMI'] = (pcos_df['Weight (Kg)'] / ((pcos_df['Height(Cm) '] / 100) ** 2)).round(2)\n",
    "# Delete unnecessary features\n",
    "pcos_df = pcos_df.drop(['Sl. No', 'Patient File No.', 'FSH/LH', 'Unnamed: 44'], axis = 'columns')\n",
    "# Showed transposed data\n",
    "pcos_df.head().T"
   ]
  },
  {
   "cell_type": "markdown",
   "metadata": {},
   "source": [
    "Now that the BMI values are calculated & a couple features have been cleaned up, I'm going to do some general, nitpicky cleanup to remove unecessary spaces and some mispellings."
   ]
  },
  {
   "cell_type": "code",
   "execution_count": 24,
   "metadata": {
    "collapsed": false,
    "jupyter": {
     "outputs_hidden": false
    }
   },
   "outputs": [
    {
     "data": {
      "text/plain": [
       "Index(['PCOS (Y/N)', ' Age (yrs)', 'Weight (Kg)', 'Height(Cm) ', 'BMI',\n",
       "       'Blood Group', 'Pulse rate(bpm) ', 'RR (breaths/min)', 'Hb(g/dl)',\n",
       "       'Cycle(R/I)', 'Cycle length(days)', 'Marraige Status (Yrs)',\n",
       "       'Pregnant(Y/N)', 'No. of abortions', '  I   beta-HCG(mIU/mL)',\n",
       "       'II    beta-HCG(mIU/mL)', 'FSH(mIU/mL)', 'LH(mIU/mL)', 'Hip(inch)',\n",
       "       'Waist(inch)', 'Waist:Hip Ratio', 'TSH (mIU/L)', 'AMH(ng/mL)',\n",
       "       'PRL(ng/mL)', 'Vit D3 (ng/mL)', 'PRG(ng/mL)', 'RBS(mg/dl)',\n",
       "       'Weight gain(Y/N)', 'hair growth(Y/N)', 'Skin darkening (Y/N)',\n",
       "       'Hair loss(Y/N)', 'Pimples(Y/N)', 'Fast food (Y/N)',\n",
       "       'Reg.Exercise(Y/N)', 'BP _Systolic (mmHg)', 'BP _Diastolic (mmHg)',\n",
       "       'Follicle No. (L)', 'Follicle No. (R)', 'Avg. F size (L) (mm)',\n",
       "       'Avg. F size (R) (mm)', 'Endometrium (mm)'],\n",
       "      dtype='object')"
      ]
     },
     "execution_count": 24,
     "metadata": {},
     "output_type": "execute_result"
    }
   ],
   "source": [
    "pcos_df.columns"
   ]
  },
  {
   "cell_type": "code",
   "execution_count": 25,
   "metadata": {
    "collapsed": false,
    "jupyter": {
     "outputs_hidden": false
    }
   },
   "outputs": [],
   "source": [
    "pcos_df = pcos_df.rename(columns={' Age (yrs)': 'Age(yrs)', 'Weight (Kg)':'Weight(Kg)', 'Height(Cm) ': 'Height(Cm)', \n",
    "                   'Pulse rate(bpm) ': 'Pulse rate(bpm)', 'PCOS (Y/N)': 'PCOS', 'RR (breaths/min':'RR(breaths/min',\n",
    "                  'Marraige Status (Yrs)':'Marriage Status(Yrs)', 'No. of aborptions':'No. of abortions',\n",
    "                  'Skin darkening (Y/N)': 'Skin darkening(Y/N)', 'Fast food (Y/N)':'Fast food(Y/N)',\n",
    "                  'BP _Systolic (mmHg)':'BP_Systolic(mmHg)', 'BP _Diastolic (mmHg)':'BP_Diastolic(mmHg)'})\n"
   ]
  },
  {
   "cell_type": "markdown",
   "metadata": {},
   "source": [
    "Let's check to see if we have any nulls."
   ]
  },
  {
   "cell_type": "code",
   "execution_count": 26,
   "metadata": {
    "collapsed": false,
    "jupyter": {
     "outputs_hidden": false
    }
   },
   "outputs": [
    {
     "data": {
      "text/plain": [
       "PCOS                      0\n",
       "Age(yrs)                  0\n",
       "Weight(Kg)                0\n",
       "Height(Cm)                0\n",
       "BMI                       0\n",
       "Blood Group               0\n",
       "Pulse rate(bpm)           0\n",
       "RR (breaths/min)          0\n",
       "Hb(g/dl)                  0\n",
       "Cycle(R/I)                0\n",
       "Cycle length(days)        0\n",
       "Marriage Status(Yrs)      1\n",
       "Pregnant(Y/N)             0\n",
       "No. of abortions          0\n",
       "  I   beta-HCG(mIU/mL)    0\n",
       "II    beta-HCG(mIU/mL)    0\n",
       "FSH(mIU/mL)               0\n",
       "LH(mIU/mL)                0\n",
       "Hip(inch)                 0\n",
       "Waist(inch)               0\n",
       "Waist:Hip Ratio           0\n",
       "TSH (mIU/L)               0\n",
       "AMH(ng/mL)                0\n",
       "PRL(ng/mL)                0\n",
       "Vit D3 (ng/mL)            0\n",
       "PRG(ng/mL)                0\n",
       "RBS(mg/dl)                0\n",
       "Weight gain(Y/N)          0\n",
       "hair growth(Y/N)          0\n",
       "Skin darkening(Y/N)       0\n",
       "Hair loss(Y/N)            0\n",
       "Pimples(Y/N)              0\n",
       "Fast food(Y/N)            1\n",
       "Reg.Exercise(Y/N)         0\n",
       "BP_Systolic(mmHg)         0\n",
       "BP_Diastolic(mmHg)        0\n",
       "Follicle No. (L)          0\n",
       "Follicle No. (R)          0\n",
       "Avg. F size (L) (mm)      0\n",
       "Avg. F size (R) (mm)      0\n",
       "Endometrium (mm)          0\n",
       "dtype: int64"
      ]
     },
     "execution_count": 26,
     "metadata": {},
     "output_type": "execute_result"
    }
   ],
   "source": [
    "pcos_df.isnull().sum()"
   ]
  },
  {
   "cell_type": "markdown",
   "metadata": {},
   "source": [
    "You can see that there are null values in both the 'Marriage Status(Yrs)' & 'Fast food(Y/N)' columns. Since years in an integer, I will impute the missing value with the <code>average</code> of the others. Since 'Fast food(Y/N)' has 0 or 1 as the value, I will impute the missing value with the <code>mode</code>. Hardcoding the imputation is not the best method but it works here because I had very few imputations to make. "
   ]
  },
  {
   "cell_type": "code",
   "execution_count": 27,
   "metadata": {},
   "outputs": [
    {
     "name": "stdout",
     "output_type": "stream",
     "text": [
      "Mean Years of Marriage: 7.6809259259259255\n",
      "Mode of Fast Food (Y/N): 0    1.0\n",
      "Name: Fast food(Y/N), dtype: float64 \n",
      "\n",
      "                      count      mean       std  min  25%  50%   75%   max\n",
      "Marriage Status(Yrs)  541.0  7.680924  4.799385  0.0  4.0  7.0  10.0  30.0\n",
      "Fast food(Y/N)        541.0  0.515712  0.500216  0.0  0.0  1.0   1.0   1.0\n"
     ]
    }
   ],
   "source": [
    "# Calculating mean for marriage status\n",
    "mean_marr = pcos_df['Marriage Status(Yrs)'].mean()\n",
    "# Calculating mode for marriage status\n",
    "mode_ff = pcos_df['Fast food(Y/N)'].mode()\n",
    "\n",
    "print(\"Mean Years of Marriage: %s\" % (mean_marr))\n",
    "print(\"Mode of Fast Food (Y/N): %s\" % (mode_ff), '\\n')\n",
    "\n",
    "# Imputing these values into the missing NA\n",
    "pcos_df['Marriage Status(Yrs)'] = pcos_df['Marriage Status(Yrs)'].fillna(7.68)\n",
    "pcos_df['Fast food(Y/N)'] = pcos_df['Fast food(Y/N)'].fillna(1)\n",
    "\n",
    "# Observing what the mean is for marriage status & fast food now that they are imputed\n",
    "print(pcos_df[['Marriage Status(Yrs)','Fast food(Y/N)']].describe().T)"
   ]
  },
  {
   "cell_type": "markdown",
   "metadata": {
    "jp-MarkdownHeadingCollapsed": true
   },
   "source": [
    "---------\n",
    "Now that we've done a bit of observation & cleanup, let's see if we can perform Recursive Feature Elimination using Cross-Validation\n"
   ]
  },
  {
   "cell_type": "markdown",
   "metadata": {},
   "source": [
    "<h3>Feature Selection</h3>"
   ]
  },
  {
   "cell_type": "markdown",
   "metadata": {},
   "source": [
    "Below, I will perform k-fold cross-validation for recursive feature selection. I will feed the cross-validator with all the features we have at the moment. This proved to be a long process and I kept getting the error that my data was not converging. I first increased the <code>max_iter</code> but soon learned that it might be wiser to scale the data and try again. "
   ]
  },
  {
   "cell_type": "markdown",
   "metadata": {},
   "source": [
    "<h4>Scaling the data:</h4>"
   ]
  },
  {
   "cell_type": "code",
   "execution_count": 28,
   "metadata": {},
   "outputs": [
    {
     "data": {
      "text/plain": [
       "array([[-0.63460643, -1.36476953, -0.74400482, ...,  0.83677604,\n",
       "         0.76853707,  0.01113306],\n",
       "       [ 0.84523012,  0.48673106,  0.83198292, ..., -0.00508332,\n",
       "        -0.43781578, -2.20761818],\n",
       "       [ 0.29029141,  0.83161842,  1.41260999, ...,  0.83677604,\n",
       "         1.3717135 ,  0.70449282],\n",
       "       ...,\n",
       "       [ 0.84523012, -0.5116271 , -0.74400482, ...,  0.83677604,\n",
       "        -1.94575684, -0.54355475],\n",
       "       [-0.819586  , -0.87466643, -1.07579171, ...,  0.83677604,\n",
       "         0.16536065,  1.39785259],\n",
       "       [-1.55950427,  2.02964822,  1.41260999, ...,  1.11739583,\n",
       "         0.76853707, -0.72845069]])"
      ]
     },
     "execution_count": 28,
     "metadata": {},
     "output_type": "execute_result"
    }
   ],
   "source": [
    "X = pcos_df.drop('PCOS', axis = 1)\n",
    "y = pcos_df['PCOS']\n",
    "\n",
    "# Scale X to help with processing time and to solve the convergence issue\n",
    "scale = StandardScaler()\n",
    "scaledX = scale.fit_transform(X)\n",
    "\n",
    "scaledX"
   ]
  },
  {
   "cell_type": "markdown",
   "metadata": {},
   "source": [
    "By scaling the data, we are able to run the RFECV process more efficiently."
   ]
  },
  {
   "cell_type": "code",
   "execution_count": 29,
   "metadata": {},
   "outputs": [
    {
     "data": {
      "image/png": "[encoded data removed]",
      "text/plain": [
       "<Figure size 600x400 with 1 Axes>"
      ]
     },
     "metadata": {},
     "output_type": "display_data"
    },
    {
     "data": {
      "text/plain": [
       "<Axes: title={'center': 'RFECV for LogisticRegression'}, xlabel='Number of Features Selected', ylabel='Score'>"
      ]
     },
     "execution_count": 29,
     "metadata": {},
     "output_type": "execute_result"
    }
   ],
   "source": [
    "model = LogisticRegression(max_iter = 10000) # define model process\n",
    "model.fit(scaledX, y) # fit the model to the scaled X\n",
    "\n",
    "plt.figure(figsize = [6,4])\n",
    "\n",
    "visualizer = RFECV(model, step = 1, cv = 5, scoring='neg_mean_squared_error')\n",
    "visualizer.fit(scaledX, y)\n",
    "visualizer.show()"
   ]
  },
  {
   "cell_type": "markdown",
   "metadata": {},
   "source": [
    "Now that we have the scoring of the cross-validation model & the recommended number of features, let's map those features back to the original dataset and create a new dataset with just the relevant features. "
   ]
  },
  {
   "cell_type": "code",
   "execution_count": 30,
   "metadata": {},
   "outputs": [
    {
     "name": "stdout",
     "output_type": "stream",
     "text": [
      "Index(['Cycle(R/I)', 'PRG(ng/mL)', 'Weight gain(Y/N)', 'hair growth(Y/N)',\n",
      "       'Skin darkening(Y/N)', 'Pimples(Y/N)', 'Follicle No. (L)',\n",
      "       'Follicle No. (R)'],\n",
      "      dtype='object')\n"
     ]
    }
   ],
   "source": [
    "feature_mask = visualizer.support_ #output T/F array \n",
    "feature_columns = pcos_df.drop('PCOS', axis=1).columns  # Exclude target variable column if it's in the DataFrame\n",
    "selected_features = feature_columns[feature_mask] #outputs selected features according to feature_mask\n",
    "print(selected_features)\n",
    "\n",
    "# define new df with selected features\n",
    "pcos_df_sf = pcos_df[['PCOS', 'Cycle(R/I)', 'PRG(ng/mL)', 'Weight gain(Y/N)', 'hair growth(Y/N)',\n",
    "       'Skin darkening(Y/N)', 'Pimples(Y/N)', 'Follicle No. (L)',\n",
    "       'Follicle No. (R)']]"
   ]
  },
  {
   "cell_type": "markdown",
   "metadata": {},
   "source": [
    "Create correlation matrix to create a heatmap to visualize relationships."
   ]
  },
  {
   "cell_type": "code",
   "execution_count": 31,
   "metadata": {
    "collapsed": false,
    "jupyter": {
     "outputs_hidden": false
    }
   },
   "outputs": [
    {
     "data": {
      "text/plain": [
       "<Axes: >"
      ]
     },
     "execution_count": 31,
     "metadata": {},
     "output_type": "execute_result"
    },
    {
     "data": {
      "image/png": "[encoded data removed]",
      "text/plain": [
       "<Figure size 800x600 with 2 Axes>"
      ]
     },
     "metadata": {},
     "output_type": "display_data"
    }
   ],
   "source": [
    "corr_matrix = pcos_df_sf.corr() #define correlation matrix with relevant features only\n",
    "\n",
    "plt.subplots(figsize=(8,6))\n",
    "sns.heatmap(corr_matrix, vmin=0.2, cmap='YlGnBu', annot = True)"
   ]
  },
  {
   "cell_type": "markdown",
   "metadata": {},
   "source": [
    "Here is the list of correlation values of the variables & the presence of PCOS:"
   ]
  },
  {
   "cell_type": "code",
   "execution_count": 32,
   "metadata": {
    "collapsed": false,
    "jupyter": {
     "outputs_hidden": false
    }
   },
   "outputs": [
    {
     "data": {
      "text/plain": [
       "PCOS                   1.000000\n",
       "Follicle No. (R)       0.648327\n",
       "Follicle No. (L)       0.603346\n",
       "Skin darkening(Y/N)    0.475733\n",
       "hair growth(Y/N)       0.464667\n",
       "Weight gain(Y/N)       0.441047\n",
       "Cycle(R/I)             0.401644\n",
       "Pimples(Y/N)           0.286077\n",
       "PRG(ng/mL)            -0.043834\n",
       "Name: PCOS, dtype: float64"
      ]
     },
     "execution_count": 32,
     "metadata": {},
     "output_type": "execute_result"
    }
   ],
   "source": [
    "corr_values = corr_matrix[\"PCOS\"].sort_values(ascending=False)\n",
    "corr_values"
   ]
  },
  {
   "cell_type": "markdown",
   "metadata": {},
   "source": [
    "<h3>Model Performance</h3>"
   ]
  },
  {
   "cell_type": "markdown",
   "metadata": {},
   "source": [
    "I'm now going to test the model performance using the pared-down dataset that I got from using the Feature Selection with Cross-Validation technique."
   ]
  },
  {
   "cell_type": "code",
   "execution_count": 33,
   "metadata": {},
   "outputs": [
    {
     "name": "stdout",
     "output_type": "stream",
     "text": [
      "Logistic Regression Accuracy: 0.91\n"
     ]
    }
   ],
   "source": [
    "X = pcos_df_sf.drop('PCOS', axis = 1) #feature columns in new df\n",
    "y = pcos_df_sf['PCOS'] #target column\n",
    "\n",
    "X_train, X_test, y_train, y_test = train_test_split(X, y, test_size=0.2, random_state=3) #make train test split\n",
    "\n",
    "# Initialize Logistic Regression model\n",
    "model = LogisticRegression(max_iter=1000, solver='liblinear')\n",
    "model.fit(X_train, y_train)\n",
    "\n",
    "# Perform cross-validation and print the scores\n",
    "cv_scores = cross_val_score(model, X_train, y_train, cv=10)\n",
    "print(\"Logistic Regression Accuracy: %0.2f\" % (cv_scores.mean()))"
   ]
  },
  {
   "cell_type": "markdown",
   "metadata": {},
   "source": [
    "Pretty good performance with a prediction accuracy of 0.91."
   ]
  },
  {
   "cell_type": "markdown",
   "metadata": {},
   "source": [
    "<h4>Tune Hyperparameters</h4>\n",
    "\n",
    "Let's try a GridSearch to find the best hyperparameters in an attempt to improve our model."
   ]
  },
  {
   "cell_type": "code",
   "execution_count": 34,
   "metadata": {},
   "outputs": [
    {
     "name": "stdout",
     "output_type": "stream",
     "text": [
      "Best parameters for Logistic Regression: {'C': 1.0, 'penalty': 'l1'}\n",
      "Best CV score for Logistic Regression: 0.9121035940803383\n"
     ]
    }
   ],
   "source": [
    "# Define the parameter grid\n",
    "param_grid_lr = {\n",
    "    'C': [0.001, 0.01, 0.1, 1.0, 10.0, 100.0, 1000.0],\n",
    "    'penalty': ['l1', 'l2']\n",
    "}\n",
    "\n",
    "# Initialize the grid search for Logistic Regression\n",
    "grid_search_lr = GridSearchCV(LogisticRegression(max_iter=1000, solver='liblinear'), param_grid_lr, cv=10)\n",
    "\n",
    "# Fit on your training data\n",
    "grid_search_lr.fit(X_train, y_train)\n",
    "\n",
    "print(\"Best parameters for Logistic Regression:\", grid_search_lr.best_params_)\n",
    "print(\"Best CV score for Logistic Regression:\", grid_search_lr.best_score_)"
   ]
  },
  {
   "cell_type": "markdown",
   "metadata": {},
   "source": [
    "Now we want to fit a model based on our \"best\" hyperparameters."
   ]
  },
  {
   "cell_type": "code",
   "execution_count": 40,
   "metadata": {},
   "outputs": [
    {
     "name": "stdout",
     "output_type": "stream",
     "text": [
      "Final Logistic Regression CV Accuracy: 0.88\n"
     ]
    }
   ],
   "source": [
    "# Initialize the Logistic Regression model with the best parameters\n",
    "final_model_lr = LogisticRegression(C=grid_search_lr.best_params_['C'], penalty=grid_search_lr.best_params_['penalty'], max_iter=1000, solver='liblinear')\n",
    "final_model_lr.fit(X_train, y_train)\n",
    "\n",
    "# Final validation with CV\n",
    "final_cv_scores_lr = cross_val_score(final_model_lr, X_train, y_train, cv=10)\n",
    "\n",
    "print(\"Final Logistic Regression CV Accuracy: %0.2f\" % (final_cv_scores_lr.mean()))"
   ]
  },
  {
   "cell_type": "markdown",
   "metadata": {},
   "source": [
    "Although the hyperparameter selection didn't improve our model performance in a significant way, it is a good function to perform in general in trying to build the best model. "
   ]
  },
  {
   "cell_type": "markdown",
   "metadata": {},
   "source": [
    "Below is an ROC-curve that shows the relationship between the true positive rate and the false positive rate. "
   ]
  },
  {
   "cell_type": "code",
   "execution_count": 36,
   "metadata": {},
   "outputs": [
    {
     "data": {
      "image/png": "[encoded data removed]",
      "text/plain": [
       "<Figure size 700x500 with 1 Axes>"
      ]
     },
     "metadata": {},
     "output_type": "display_data"
    }
   ],
   "source": [
    "logit_roc_auc = roc_auc_score(y_test, final_model_lr.predict(X_test))\n",
    "fpr, tpr, thresholds = roc_curve(y_test, final_model_lr.predict_proba(X_test)[:,1])\n",
    "\n",
    "plt.figure(figsize=(7,5))\n",
    "plt.plot(fpr, tpr, label='Logistic Regression (area = %0.2f)' % logit_roc_auc)\n",
    "plt.plot([0, 1], [0, 1],'r--')\n",
    "plt.xlim([0.0, 1.0])\n",
    "plt.ylim([0.0, 1.05])\n",
    "plt.xlabel('False Positive Rate')\n",
    "plt.ylabel('True Positive Rate')\n",
    "plt.title('Receiver Operating Characteristic')\n",
    "plt.legend(loc=\"lower right\")\n",
    "plt.savefig('Log_ROC')\n",
    "plt.show()"
   ]
  },
  {
   "cell_type": "markdown",
   "metadata": {},
   "source": [
    "Just out of curiosity, I wanted to see what the accuracy scores were for individual features in predicting the presence of PCOS."
   ]
  },
  {
   "cell_type": "code",
   "execution_count": 37,
   "metadata": {},
   "outputs": [
    {
     "name": "stdout",
     "output_type": "stream",
     "text": [
      "LogReg Accuracy for Single Feature Follicle No. (R) : 0.83\n",
      "LogReg Accuracy for Single Feature Follicle No. (L) : 0.80\n",
      "LogReg Accuracy for Single Feature Skin darkening(Y/N) : 0.77\n",
      "LogReg Accuracy for Single Feature hair growth(Y/N) : 0.78\n",
      "LogReg Accuracy for Single Feature Weight gain(Y/N) : 0.74\n",
      "LogReg Accuracy for Single Feature Cycle(R/I) : 0.75\n",
      "LogReg Accuracy for Single Feature Pimples(Y/N) : 0.68\n",
      "LogReg Accuracy for Single Feature PRG(ng/mL) : 0.68\n"
     ]
    }
   ],
   "source": [
    "features = ['Follicle No. (R)', 'Follicle No. (L)', 'Skin darkening(Y/N)', 'hair growth(Y/N)', 'Weight gain(Y/N)', 'Cycle(R/I)', \n",
    "            'Pimples(Y/N)', 'PRG(ng/mL)'         \n",
    "       ]\n",
    "\n",
    "for feature in features:\n",
    "    pcos_test = pcos_df_sf[['PCOS', feature]]\n",
    "    #print(pcos_test)\n",
    "    \n",
    "    X = pcos_test.drop('PCOS', axis = 1) #feature columns in new df\n",
    "    y = pcos_test['PCOS'] #target column\n",
    "    \n",
    "    X_train, X_test, y_train, y_test = train_test_split(X, y, test_size=0.2, random_state=3) #make train test split\n",
    "    \n",
    "    # Initialize Logistic Regression model\n",
    "    model = LogisticRegression(max_iter=1000, solver='liblinear')\n",
    "    model.fit(X_train, y_train)\n",
    "\n",
    "    # Perform cross-validation and print the scores\n",
    "    cv_scores = cross_val_score(model, X_train, y_train, cv=10)\n",
    "    print(\"LogReg Accuracy for Single Feature\", feature, \": %0.2f\" % (cv_scores.mean()))"
   ]
  },
  {
   "cell_type": "code",
   "execution_count": 38,
   "metadata": {},
   "outputs": [
    {
     "name": "stdout",
     "output_type": "stream",
     "text": [
      "LogReg Accuracy for Single Feature PRG(ng/mL) : 0.88\n"
     ]
    }
   ],
   "source": [
    "pcos_test = pcos_df_sf[['PCOS', 'Follicle No. (R)', 'Follicle No. (L)', 'Skin darkening(Y/N)',]]\n",
    "    \n",
    "X = pcos_test.drop('PCOS', axis = 1) #feature columns in new df\n",
    "y = pcos_test['PCOS'] #target column\n",
    "    \n",
    "X_train, X_test, y_train, y_test = train_test_split(X, y, test_size=0.2, random_state=3) #make train test split\n",
    "    \n",
    "# Initialize Logistic Regression model\n",
    "model = LogisticRegression(max_iter=1000, solver='liblinear')\n",
    "model.fit(X_train, y_train)\n",
    "\n",
    "# Perform cross-validation and print the scores\n",
    "cv_scores = cross_val_score(model, X_train, y_train, cv=10)\n",
    "print(\"LogReg Accuracy for Single Feature\", feature, \": %0.2f\" % (cv_scores.mean()))"
   ]
  },
  {
   "cell_type": "markdown",
   "metadata": {},
   "source": [
    "<h3>Conclusion</h3>\n",
    "\n",
    "In this notebook, I explored data associated with Polycystic Ovary Syndrome (PCOS). The objectives were to leverage machine learning to identify key factors that may contribute to PCOS and to develop a predictive model that can accurately classify individuals based on their risk of having PCOS."
   ]
  },
  {
   "cell_type": "markdown",
   "metadata": {},
   "source": [
    "<h4>Key Findings:</h4>\n",
    "\n",
    "<h5>Feature Selection: </h5> Through Recursive Feature Elimination with Cross-Validation (RFECV), I identified the most significant features that impact the presence of PCOS. Notably, factors such as PRG (Progesterone) levels, menstrual cycle irregularity, and notable weight gain. Amongst others, those were deemed critical in understanding PCOS.\n",
    "\n",
    "<h5>Model Performance:</h5> I chose the logistic regression model to analyze this dataset as we were trying to predict the presence of PCOS in the binary manner (1 or 0). The model's accuracy <code>(0.91)</code> demonstrated good performance in classifying PCOS. \n",
    "\n",
    "<h5>Clinical Insights:</h5> Our analysis showed the multifaceted nature of PCOS and emphasized the importance of a holistic approach to diagnosis and treatment. The hormone PRG (Progesterone) emerged as a significant marker, aligning with medical literature on its role in reproductive health.\n",
    "\n",
    "<h4>Implications in Practice:</h4>\n",
    "The findings from this analysis have implications for clinical practice, particularly in improving the chances of early detection of PCOS. By integrating the predictive model into clinical workflows, healthcare providers can identify at-risk individuals more efficiently, enabling timely intervention and management. I also believe by running the model with only certain features can streamline the diagnosis process. I.e. you may be able to avoid costly blood tests if you can get a 0.88 accuracy score from the top three identifying features (Follicle No. (R), Follicle No. (L)., and Skin Darkening).\n",
    "\n",
    "<h4>Closing Remarks:</h4>\n",
    "This notebook not only highlights the power of machine learning in medical research but may also pave the way for more personalized and data-driven approaches to healthcare. By continuing to bridge the gap between data science and medicine, we can unlock new frontiers in the diagnosis, treatment, and understanding of complex & under-diagnosed conditions like PCOS."
   ]
  },
  {
   "cell_type": "code",
   "execution_count": null,
   "metadata": {},
   "outputs": [],
   "source": []
  }
 ],
 "metadata": {
  "anaconda-cloud": {},
  "kernelspec": {
   "display_name": "Python 3 (ipykernel)",
   "language": "python",
   "name": "python3"
  },
  "language_info": {
   "codemirror_mode": {
    "name": "ipython",
    "version": 3
   },
   "file_extension": ".py",
   "mimetype": "text/x-python",
   "name": "python",
   "nbconvert_exporter": "python",
   "pygments_lexer": "ipython3",
   "version": "3.11.8"
  }
 },
 "nbformat": 4,
 "nbformat_minor": 4
}
